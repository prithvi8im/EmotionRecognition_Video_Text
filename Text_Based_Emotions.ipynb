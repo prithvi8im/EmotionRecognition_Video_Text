{
  "nbformat": 4,
  "nbformat_minor": 0,
  "metadata": {
    "colab": {
      "name": "Text Based Emotions.ipynb",
      "provenance": [],
      "collapsed_sections": [],
      "machine_shape": "hm"
    },
    "kernelspec": {
      "name": "python3",
      "display_name": "Python 3"
    }
  },
  "cells": [
    {
      "cell_type": "markdown",
      "metadata": {
        "id": "pfXMRuyeeqKK"
      },
      "source": [
        "# Suggest learning tips to a candidate based on their emotions captured from text\n",
        "Emotion Detection from Text using PyTorch"
      ]
    },
    {
      "cell_type": "markdown",
      "metadata": {
        "id": "2QSTVs595a0P"
      },
      "source": [
        "# Importing Libraries and Packages"
      ]
    },
    {
      "cell_type": "code",
      "metadata": {
        "id": "IzUG0hOIetuL"
      },
      "source": [
        "import numpy as np\n",
        "import pandas as pd\n",
        "import matplotlib.pyplot as plt\n",
        "import csv\n",
        "import torch\n",
        "import torch.nn as nn\n",
        "import torch.nn.functional as F\n",
        "import torch.optim as optim"
      ],
      "execution_count": null,
      "outputs": []
    },
    {
      "cell_type": "code",
      "metadata": {
        "id": "d04n5XXyf5Cj"
      },
      "source": [
        "# Functions\n",
        "\n",
        "def read_glove_vecs(glove_file):\n",
        "    with open(glove_file, 'r') as f:\n",
        "        words = set()\n",
        "        word_to_vec_map = {}\n",
        "        for line in f:\n",
        "            line = line.strip().split()\n",
        "            curr_word = line[0]\n",
        "            words.add(curr_word)\n",
        "            word_to_vec_map[curr_word] = np.array(line[1:], dtype=np.float64)\n",
        "        \n",
        "        i = 1\n",
        "        words_to_index = {}\n",
        "        index_to_words = {}\n",
        "        for w in sorted(words):\n",
        "            words_to_index[w] = i\n",
        "            index_to_words[i] = w\n",
        "            i = i + 1\n",
        "    return words_to_index, index_to_words, word_to_vec_map\n",
        "\n",
        "def convert_to_one_hot(Y, C):\n",
        "    Y = np.eye(C)[Y.reshape(-1)]\n",
        "    return Y\n",
        "\n",
        "def read_csv(filename):\n",
        "    phrase = []\n",
        "    emoji = []\n",
        "\n",
        "    with open (filename) as csvDataFile:\n",
        "        csvReader = csv.reader(csvDataFile)\n",
        "\n",
        "        for row in csvReader:\n",
        "            phrase.append(row[0])\n",
        "            emoji.append(row[1])\n",
        "\n",
        "    X = np.asarray(phrase)\n",
        "    Y = np.asarray(emoji, dtype=int)\n",
        "\n",
        "    return X, Y"
      ],
      "execution_count": null,
      "outputs": []
    },
    {
      "cell_type": "code",
      "metadata": {
        "id": "RmqjSlwofS_i"
      },
      "source": [
        "X_train, Y_train = read_csv('/content/Data/train.csv')\n",
        "X_test, Y_test = read_csv('/content/Data/test.csv')"
      ],
      "execution_count": null,
      "outputs": []
    },
    {
      "cell_type": "code",
      "metadata": {
        "id": "Gt5z5eqVih4i"
      },
      "source": [
        "Y_oh_train = convert_to_one_hot(Y_train, C = 5)\n",
        "Y_oh_test = convert_to_one_hot(Y_test, C = 5)"
      ],
      "execution_count": null,
      "outputs": []
    },
    {
      "cell_type": "code",
      "metadata": {
        "id": "jDe5vX3qiYcB"
      },
      "source": [
        "word_to_index, index_to_word, word_to_vec_map = read_glove_vecs('/content/Data/glove.6B.50d.txt')"
      ],
      "execution_count": null,
      "outputs": []
    },
    {
      "cell_type": "code",
      "metadata": {
        "id": "fh0iyxn_jDCR"
      },
      "source": [
        "def sentences_to_indices(X, word_to_index, max_len):\n",
        "    \"\"\"\n",
        "    Converts an array of sentences (strings) into an array of indices corresponding to words in the sentences.\n",
        "    \"\"\"\n",
        "    \n",
        "    m = X.shape[0]  # number of training examples\n",
        "    \n",
        "    # Initialize X_indices as a numpy matrix of zeros and the correct shape\n",
        "    X_indices = np.zeros((m,max_len))\n",
        "    \n",
        "    for i in range(m):  # loop over training examples\n",
        "        \n",
        "        # Convert the ith sentence in lower case and split into a list of words\n",
        "        sentence_words = X[i].lower().split()\n",
        "        \n",
        "        # Initialize j to 0\n",
        "        j = 0\n",
        "        \n",
        "        # Loop over the words of sentence_words\n",
        "        for w in sentence_words:\n",
        "            # Set the (i,j)th entry of X_indices to the index of the correct word.\n",
        "            X_indices[i, j] = word_to_index[w]\n",
        "            # Increment j to j + 1\n",
        "            j = j + 1\n",
        "    \n",
        "    return X_indices"
      ],
      "execution_count": null,
      "outputs": []
    },
    {
      "cell_type": "code",
      "metadata": {
        "id": "LLyIs_aFjdfl",
        "colab": {
          "base_uri": "https://localhost:8080/"
        },
        "outputId": "c8106376-b822-471f-a5ae-ea97b6230213"
      },
      "source": [
        "X1 = np.array([\"lol\", \"You are the best\", \"this is very delicious\"])\n",
        "X1_indices = sentences_to_indices(X1,word_to_index, max_len = 5)\n",
        "print(\"X1 =\", X1)\n",
        "print(\"X1_indices =\", X1_indices)"
      ],
      "execution_count": null,
      "outputs": [
        {
          "output_type": "stream",
          "text": [
            "X1 = ['lol' 'I love you' 'this is very yummy']\n",
            "X1_indices = [[225122.      0.      0.      0.      0.]\n",
            " [185457. 226278. 394475.      0.      0.]\n",
            " [358160. 192973. 377946. 394957.      0.]]\n"
          ],
          "name": "stdout"
        }
      ]
    },
    {
      "cell_type": "markdown",
      "metadata": {
        "id": "UMKHhghrWcNn"
      },
      "source": [
        "## Defining the Network using Pretrained Embedding Layer using GloVe Word Embeddings"
      ]
    },
    {
      "cell_type": "code",
      "metadata": {
        "id": "JZDWRfRkWhwB"
      },
      "source": [
        "class NN(nn.Module):\n",
        "  def __init__(self, embedding, embedding_dim, hidden_dim, vocab_size, output_dim, batch_size):\n",
        "      super(NN, self).__init__()\n",
        "\n",
        "      self.batch_size = batch_size\n",
        "\n",
        "      self.hidden_dim = hidden_dim\n",
        "\n",
        "      self.word_embeddings = embedding\n",
        "\n",
        "      # The LSTM takes word embeddings as inputs, and outputs hidden states\n",
        "      # with hidden_dim as dimensionality.\n",
        "      self.lstm = nn.LSTM(embedding_dim, \n",
        "                          hidden_dim, \n",
        "                          num_layers=2,\n",
        "                          dropout = 0.5,\n",
        "                          batch_first = True)\n",
        "\n",
        "      # The linear layer that maps from hidden state space to output space\n",
        "      self.fc = nn.Linear(hidden_dim, output_dim)\n",
        "\n",
        "  def forward(self, sentence):\n",
        "      \n",
        "      #sentence = sentence.type(torch.LongTensor)\n",
        "      #print ('Shape of sentence is:', sentence.shape)\n",
        "\n",
        "      sentence = sentence.to(device)\n",
        "\n",
        "      embeds = self.word_embeddings(sentence)\n",
        "      #print ('Embedding layer output shape', embeds.shape)\n",
        "\n",
        "      # initializing the hidden state to 0\n",
        "      #hidden=None\n",
        "      \n",
        "      h0 = torch.zeros(2, sentence.size(0), hidden_dim).requires_grad_().to(device)\n",
        "      c0 = torch.zeros(2, sentence.size(0), hidden_dim).requires_grad_().to(device)\n",
        "      \n",
        "      lstm_out, h = self.lstm(embeds, (h0, c0))\n",
        "      # get info from last timestep only\n",
        "      lstm_out = lstm_out[:, -1, :]\n",
        "      #print ('LSTM layer output shape', lstm_out.shape)\n",
        "      #print ('LSTM layer output ', lstm_out)\n",
        "\n",
        "      # Dropout\n",
        "      lstm_out = F.dropout(lstm_out, 0.5)\n",
        "\n",
        "      fc_out = self.fc(lstm_out)\n",
        "      #print ('FC layer output shape', fc_out.shape)\n",
        "      #print ('FC layer output ', fc_out)\n",
        "      \n",
        "      out = fc_out\n",
        "      out = F.softmax(out, dim=1)\n",
        "      #print ('Output layer output shape', out.shape)\n",
        "      #print ('Output layer output ', out)\n",
        "      return out\n",
        "  "
      ],
      "execution_count": null,
      "outputs": []
    },
    {
      "cell_type": "markdown",
      "metadata": {
        "id": "QK1Bty6f5yQ3"
      },
      "source": [
        "## Creating the Glove Embedding Layer"
      ]
    },
    {
      "cell_type": "code",
      "metadata": {
        "id": "g-UcwaXPgZyj"
      },
      "source": [
        "def pretrained_embedding_layer(word_to_vec_map, word_to_index, non_trainable=True):\n",
        "    num_embeddings = len(word_to_index) + 1                   \n",
        "    embedding_dim = word_to_vec_map[\"cucumber\"].shape[0]  #  dimensionality of GloVe word vectors (= 50)\n",
        "\n",
        "    # Initialize the embedding matrix as a numpy array of zeros of shape (num_embeddings, embedding_dim)\n",
        "    weights_matrix = np.zeros((num_embeddings, embedding_dim))\n",
        "\n",
        "    # Set each row \"index\" of the embedding matrix to be the word vector representation of the \"index\"th word of the vocabulary\n",
        "    for word, index in word_to_index.items():\n",
        "        weights_matrix[index, :] = word_to_vec_map[word]\n",
        "\n",
        "    embed = nn.Embedding.from_pretrained(torch.from_numpy(weights_matrix).type(torch.FloatTensor), freeze=non_trainable)\n",
        "\n",
        "    return embed, num_embeddings, embedding_dim\n"
      ],
      "execution_count": null,
      "outputs": []
    },
    {
      "cell_type": "markdown",
      "metadata": {
        "id": "C7urFqpr5ntp"
      },
      "source": [
        "## Training the model"
      ]
    },
    {
      "cell_type": "code",
      "metadata": {
        "id": "BEkK7S6v8dVk"
      },
      "source": [
        "device = torch.device(\"cuda:0\" if torch.cuda.is_available() else \"cpu\")\n",
        "\n",
        "def train(model, trainloader, criterion, optimizer, epochs=10):\n",
        "    \n",
        "    model.to(device)\n",
        "    running_loss = 0\n",
        "    \n",
        "    train_losses, test_losses, accuracies = [], [], []\n",
        "    for e in range(epochs):\n",
        "\n",
        "        running_loss = 0\n",
        "        \n",
        "        model.train()\n",
        "        \n",
        "        for sentences, labels in trainloader:\n",
        "\n",
        "            sentences, labels = sentences.to(device), labels.to(device)\n",
        "\n",
        "            # 1) erase previous gradients (if they exist)\n",
        "            optimizer.zero_grad()\n",
        "\n",
        "            # 2) make a prediction\n",
        "            pred = model.forward(sentences)\n",
        "\n",
        "            # 3) calculate how much we missed\n",
        "            loss = criterion(pred, labels)\n",
        "\n",
        "            # 4) figure out which weights caused us to miss\n",
        "            loss.backward()\n",
        "\n",
        "            # 5) change those weights\n",
        "            optimizer.step()\n",
        "\n",
        "            # 6) log our progress\n",
        "            running_loss += loss.item()\n",
        "        \n",
        "        \n",
        "        else:\n",
        "\n",
        "          model.eval()\n",
        "\n",
        "          test_loss = 0\n",
        "          accuracy = 0\n",
        "          \n",
        "          # For validation we can turnoff gradients. This saves memory and number of computations\n",
        "          with torch.no_grad():\n",
        "              for sentences, labels in test_loader:\n",
        "                  sentences, labels = sentences.to(device), labels.to(device)\n",
        "                  log_ps = model(sentences)\n",
        "                  test_loss += criterion(log_ps, labels)\n",
        "                  \n",
        "                  ps = torch.exp(log_ps)\n",
        "                  top_p, top_class = ps.topk(1, dim=1)\n",
        "                  equals = top_class == labels.view(*top_class.shape)\n",
        "                  accuracy += torch.mean(equals.type(torch.FloatTensor))\n",
        "                  \n",
        "          train_losses.append(running_loss/len(train_loader))\n",
        "          test_losses.append(test_loss/len(test_loader))\n",
        "          accuracies.append(accuracy / len(test_loader) * 100)\n",
        "\n",
        "          print(\"Epoch: {}/{}.. \".format(e+1, epochs),\n",
        "                \"Training Loss: {:.3f}.. \".format(running_loss/len(train_loader)),\n",
        "                \"Test Loss: {:.3f}.. \".format(test_loss/len(test_loader)),\n",
        "                \"Test Accuracy: {:.3f}\".format(accuracy/len(test_loader)))\n",
        "        \n",
        "    # Plot Loss and Accuracy\n",
        "    plt.figure(figsize=(20, 5))\n",
        "    plt.plot(train_losses, c='b', label='Training loss')\n",
        "    plt.plot(test_losses, c='r', label='Testing loss')\n",
        "    plt.xticks(np.arange(0, epochs))\n",
        "    plt.title('Losses')\n",
        "    plt.legend(loc='upper right')\n",
        "    plt.show()\n",
        "    plt.figure(figsize=(20, 5))\n",
        "    plt.plot(accuracies)\n",
        "    plt.xticks(np.arange(0, epochs))\n",
        "    plt.title('Accuracy')\n",
        "    plt.show()\n",
        "         \n",
        "\n"
      ],
      "execution_count": null,
      "outputs": []
    },
    {
      "cell_type": "code",
      "metadata": {
        "id": "Fgb8si4s9Jb9",
        "colab": {
          "base_uri": "https://localhost:8080/",
          "height": 1000
        },
        "outputId": "cab53a56-542f-4139-9cbe-17ae6f6bf561"
      },
      "source": [
        "import torch.utils.data\n",
        "\n",
        "maxLen = len(max(X_train, key=len).split())\n",
        "X_train_indices = sentences_to_indices(X_train, word_to_index, maxLen)\n",
        "Y_train_oh = convert_to_one_hot(Y_train, C = 5)\n",
        "\n",
        "X_test_indices = sentences_to_indices(X_test, word_to_index, maxLen)\n",
        "Y_test_oh = convert_to_one_hot(Y_test, C = 5)\n",
        "\n",
        "embedding, vocab_size, embedding_dim = pretrained_embedding_layer(word_to_vec_map, word_to_index, non_trainable=True)\n",
        "\n",
        "hidden_dim=128\n",
        "output_size=5\n",
        "batch_size = 32\n",
        "\n",
        "model = NN(embedding, embedding_dim, hidden_dim, vocab_size, output_size, batch_size)\n",
        "criterion = nn.CrossEntropyLoss()\n",
        "optimizer = optim.Adam(model.parameters(), lr=0.002)\n",
        "epochs = 50\n",
        "train_dataset = torch.utils.data.TensorDataset(torch.tensor(X_train_indices).type(torch.LongTensor), torch.tensor(Y_train).type(torch.LongTensor))\n",
        "train_loader = torch.utils.data.DataLoader(train_dataset, batch_size=batch_size)\n",
        "\n",
        "test_dataset = torch.utils.data.TensorDataset(torch.tensor(X_test_indices).type(torch.LongTensor), torch.tensor(Y_test).type(torch.LongTensor))\n",
        "test_loader = torch.utils.data.DataLoader(test_dataset, batch_size=batch_size)\n",
        "\n",
        "train(model, train_loader, criterion, optimizer, epochs)"
      ],
      "execution_count": null,
      "outputs": [
        {
          "output_type": "stream",
          "text": [
            "Epoch: 1/50..  Training Loss: 1.609..  Test Loss: 1.601..  Test Accuracy: 0.276\n",
            "Epoch: 2/50..  Training Loss: 1.594..  Test Loss: 1.564..  Test Accuracy: 0.276\n",
            "Epoch: 3/50..  Training Loss: 1.570..  Test Loss: 1.552..  Test Accuracy: 0.318\n",
            "Epoch: 4/50..  Training Loss: 1.556..  Test Loss: 1.532..  Test Accuracy: 0.391\n",
            "Epoch: 5/50..  Training Loss: 1.541..  Test Loss: 1.520..  Test Accuracy: 0.375\n",
            "Epoch: 6/50..  Training Loss: 1.500..  Test Loss: 1.494..  Test Accuracy: 0.411\n",
            "Epoch: 7/50..  Training Loss: 1.491..  Test Loss: 1.525..  Test Accuracy: 0.385\n",
            "Epoch: 8/50..  Training Loss: 1.488..  Test Loss: 1.486..  Test Accuracy: 0.380\n",
            "Epoch: 9/50..  Training Loss: 1.424..  Test Loss: 1.437..  Test Accuracy: 0.448\n",
            "Epoch: 10/50..  Training Loss: 1.399..  Test Loss: 1.465..  Test Accuracy: 0.432\n",
            "Epoch: 11/50..  Training Loss: 1.363..  Test Loss: 1.439..  Test Accuracy: 0.495\n",
            "Epoch: 12/50..  Training Loss: 1.335..  Test Loss: 1.376..  Test Accuracy: 0.500\n",
            "Epoch: 13/50..  Training Loss: 1.301..  Test Loss: 1.413..  Test Accuracy: 0.453\n",
            "Epoch: 14/50..  Training Loss: 1.276..  Test Loss: 1.501..  Test Accuracy: 0.359\n",
            "Epoch: 15/50..  Training Loss: 1.330..  Test Loss: 1.358..  Test Accuracy: 0.547\n",
            "Epoch: 16/50..  Training Loss: 1.308..  Test Loss: 1.318..  Test Accuracy: 0.573\n",
            "Epoch: 17/50..  Training Loss: 1.240..  Test Loss: 1.450..  Test Accuracy: 0.401\n",
            "Epoch: 18/50..  Training Loss: 1.360..  Test Loss: 1.471..  Test Accuracy: 0.406\n",
            "Epoch: 19/50..  Training Loss: 1.277..  Test Loss: 1.422..  Test Accuracy: 0.464\n",
            "Epoch: 20/50..  Training Loss: 1.208..  Test Loss: 1.319..  Test Accuracy: 0.578\n",
            "Epoch: 21/50..  Training Loss: 1.167..  Test Loss: 1.282..  Test Accuracy: 0.609\n",
            "Epoch: 22/50..  Training Loss: 1.147..  Test Loss: 1.318..  Test Accuracy: 0.589\n",
            "Epoch: 23/50..  Training Loss: 1.158..  Test Loss: 1.291..  Test Accuracy: 0.615\n",
            "Epoch: 24/50..  Training Loss: 1.140..  Test Loss: 1.220..  Test Accuracy: 0.682\n",
            "Epoch: 25/50..  Training Loss: 1.121..  Test Loss: 1.221..  Test Accuracy: 0.651\n",
            "Epoch: 26/50..  Training Loss: 1.116..  Test Loss: 1.267..  Test Accuracy: 0.625\n",
            "Epoch: 27/50..  Training Loss: 1.119..  Test Loss: 1.185..  Test Accuracy: 0.740\n",
            "Epoch: 28/50..  Training Loss: 1.111..  Test Loss: 1.204..  Test Accuracy: 0.714\n",
            "Epoch: 29/50..  Training Loss: 1.106..  Test Loss: 1.137..  Test Accuracy: 0.786\n",
            "Epoch: 30/50..  Training Loss: 1.067..  Test Loss: 1.142..  Test Accuracy: 0.786\n",
            "Epoch: 31/50..  Training Loss: 1.054..  Test Loss: 1.113..  Test Accuracy: 0.818\n",
            "Epoch: 32/50..  Training Loss: 1.045..  Test Loss: 1.211..  Test Accuracy: 0.677\n",
            "Epoch: 33/50..  Training Loss: 1.078..  Test Loss: 1.251..  Test Accuracy: 0.635\n",
            "Epoch: 34/50..  Training Loss: 1.071..  Test Loss: 1.071..  Test Accuracy: 0.839\n",
            "Epoch: 35/50..  Training Loss: 1.040..  Test Loss: 1.127..  Test Accuracy: 0.786\n",
            "Epoch: 36/50..  Training Loss: 1.141..  Test Loss: 1.277..  Test Accuracy: 0.630\n",
            "Epoch: 37/50..  Training Loss: 1.114..  Test Loss: 1.187..  Test Accuracy: 0.724\n",
            "Epoch: 38/50..  Training Loss: 1.040..  Test Loss: 1.118..  Test Accuracy: 0.786\n",
            "Epoch: 39/50..  Training Loss: 1.023..  Test Loss: 1.091..  Test Accuracy: 0.828\n",
            "Epoch: 40/50..  Training Loss: 1.026..  Test Loss: 1.104..  Test Accuracy: 0.807\n",
            "Epoch: 41/50..  Training Loss: 1.035..  Test Loss: 1.097..  Test Accuracy: 0.807\n",
            "Epoch: 42/50..  Training Loss: 1.016..  Test Loss: 1.106..  Test Accuracy: 0.802\n",
            "Epoch: 43/50..  Training Loss: 1.020..  Test Loss: 1.059..  Test Accuracy: 0.839\n",
            "Epoch: 44/50..  Training Loss: 0.995..  Test Loss: 1.111..  Test Accuracy: 0.807\n",
            "Epoch: 45/50..  Training Loss: 1.008..  Test Loss: 1.113..  Test Accuracy: 0.776\n",
            "Epoch: 46/50..  Training Loss: 0.989..  Test Loss: 1.115..  Test Accuracy: 0.807\n",
            "Epoch: 47/50..  Training Loss: 0.999..  Test Loss: 1.123..  Test Accuracy: 0.766\n",
            "Epoch: 48/50..  Training Loss: 0.992..  Test Loss: 1.097..  Test Accuracy: 0.786\n",
            "Epoch: 49/50..  Training Loss: 0.973..  Test Loss: 1.092..  Test Accuracy: 0.792\n",
            "Epoch: 50/50..  Training Loss: 0.982..  Test Loss: 1.076..  Test Accuracy: 0.828\n"
          ],
          "name": "stdout"
        },
        {
          "output_type": "display_data",
          "data": {
            "image/png": "[encoded data removed]",
            "text/plain": [
              "<Figure size 1440x360 with 1 Axes>"
            ]
          },
          "metadata": {
            "tags": [],
            "needs_background": "light"
          }
        },
        {
          "output_type": "display_data",
          "data": {
            "image/png": "[encoded data removed]",
            "text/plain": [
              "<Figure size 1440x360 with 1 Axes>"
            ]
          },
          "metadata": {
            "tags": [],
            "needs_background": "light"
          }
        }
      ]
    },
    {
      "cell_type": "markdown",
      "metadata": {
        "id": "9HHVnZ6m5_qV"
      },
      "source": [
        "## Testing the Model Accuracy"
      ]
    },
    {
      "cell_type": "code",
      "metadata": {
        "id": "Vo9z4JBWARDf",
        "colab": {
          "base_uri": "https://localhost:8080/"
        },
        "outputId": "416703bf-e104-4a18-9a81-9b9c4d41cb49"
      },
      "source": [
        "test_loss = 0\n",
        "accuracy = 0\n",
        "model.eval()\n",
        "with torch.no_grad():\n",
        "    for sentences, labels in test_loader:\n",
        "        sentences, labels = sentences.to(device), labels.to(device)\n",
        "        ps = model(sentences)\n",
        "        test_loss += criterion(ps, labels).item()\n",
        "\n",
        "        # Accuracy\n",
        "        top_p, top_class = ps.topk(1, dim=1)\n",
        "        equals = top_class == labels.view(*top_class.shape)\n",
        "        accuracy += torch.mean(equals.type(torch.FloatTensor))\n",
        "model.train()\n",
        "print(\"Test Loss: {:.3f}.. \".format(test_loss/len(test_loader)),\n",
        "      \"Test Accuracy: {:.3f}\".format(accuracy/len(test_loader)))\n",
        "running_loss = 0"
      ],
      "execution_count": null,
      "outputs": [
        {
          "output_type": "stream",
          "text": [
            "Test Loss: 1.082..  Test Accuracy: 0.807\n"
          ],
          "name": "stdout"
        }
      ]
    },
    {
      "cell_type": "markdown",
      "metadata": {
        "id": "egc4D90I6C6b"
      },
      "source": [
        "## Testing the model with any sentence"
      ]
    },
    {
      "cell_type": "code",
      "metadata": {
        "id": "i_xF0rcL6FRP"
      },
      "source": [
        "def predict(input_text, print_sentence=True):\n",
        "  labels_dict = {\n",
        "\t\t0 : \"❤️ Loving\",\n",
        "\t\t1 : \"⚽️ Playful\",\n",
        "\t\t2 : \"😄 Happy\",\n",
        "\t\t3 : \"😞 Annoyed\",\n",
        "\t\t4 : \"🍽 Foodie\",\n",
        "\t}\n",
        "\n",
        "  # Convert the input to the model\n",
        "  x_test = np.array([input_text])\n",
        "  X_test_indices = sentences_to_indices(x_test, word_to_index, maxLen)\n",
        "  sentences = torch.tensor(X_test_indices).type(torch.LongTensor)\n",
        "\n",
        "  # Get the class label\n",
        "  ps = model(sentences)\n",
        "  top_p, top_class = ps.topk(1, dim=1)\n",
        "  label = int(top_class[0][0])\n",
        "  \n",
        "\n",
        "  if print_sentence:\n",
        "    print(\"\\nInput Text: \\t\"+ input_text +'\\nEmotion: \\t'+  labels_dict[label])\n",
        "    print(\"\\n Tip of the day: \")\n",
        "    if labels_dict[label] == \"😄 Happy\":\n",
        "      print(\"Your topic to learn today is Naive Bayes\")\n",
        "    elif labels_dict[label] == \"⚽️ Playful\":\n",
        "      print(\"You need to practice Deep reinforcement algorithm\")\n",
        "    elif labels_dict[label] == \"🍽 Foodie\":\n",
        "      print(\"You can take 15min for snacking\")\n",
        "    elif labels_dict[label] == \"❤️ Loving\":\n",
        "      print(\"Do you want to subscribe for more advanced level learning topics\")\n",
        "    elif labels_dict[label] == \"😞 Annoyed\":\n",
        "      print(\"You need to take a break and come back to practice!!\")\n",
        "  return label"
      ],
      "execution_count": 137,
      "outputs": []
    },
    {
      "cell_type": "code",
      "metadata": {
        "id": "07i1a-R06J2n",
        "colab": {
          "base_uri": "https://localhost:8080/"
        },
        "outputId": "f9217efb-e251-4304-8287-c9a87c2ee76f"
      },
      "source": [
        "#  Make sure all the words are in the Glove embeddings.  \n",
        "print(\"------------------------------------\")\n",
        "predict(\"I love AI\")"
      ],
      "execution_count": 139,
      "outputs": [
        {
          "output_type": "stream",
          "text": [
            "------------------------------------\n",
            "\n",
            "Input Text: \tI love AI\n",
            "Emotion: \t❤️ Loving\n",
            "\n",
            " Tip of the day: \n",
            "Do you want to subscribe for more advanced level learning topics\n"
          ],
          "name": "stdout"
        },
        {
          "output_type": "execute_result",
          "data": {
            "text/plain": [
              "0"
            ]
          },
          "metadata": {
            "tags": []
          },
          "execution_count": 139
        }
      ]
    }
  ]
}